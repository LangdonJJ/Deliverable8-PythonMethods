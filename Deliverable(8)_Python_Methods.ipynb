{
  "nbformat": 4,
  "nbformat_minor": 0,
  "metadata": {
    "colab": {
      "provenance": []
    },
    "kernelspec": {
      "name": "python3",
      "display_name": "Python 3"
    },
    "language_info": {
      "name": "python"
    }
  },
  "cells": [
    {
      "cell_type": "code",
      "execution_count": 1,
      "metadata": {
        "id": "vyhfvaERkM9X"
      },
      "outputs": [],
      "source": [
        "import numpy as np"
      ]
    },
    {
      "cell_type": "code",
      "source": [
        "def randomlist(size):\n",
        "  list = []\n",
        "  for i in range (size):\n",
        "    list.append(np.random.randint(10,50))\n",
        "  return list\n",
        "\n",
        "def sumcalc (list):\n",
        "  sum = 0\n",
        "  for i in range(len(list)):\n",
        "    sum = sum + list[i]\n",
        "  return sum"
      ],
      "metadata": {
        "id": "kuXaO11jkbAo"
      },
      "execution_count": 11,
      "outputs": []
    },
    {
      "cell_type": "code",
      "source": [
        "n = 0\n",
        "while n < 5 or n > 15:\n",
        "  n = int(input(\"Enter a integer between 5 to 15: \"))\n",
        "\n",
        " "
      ],
      "metadata": {
        "colab": {
          "base_uri": "https://localhost:8080/"
        },
        "id": "ddiLXXmmlvsx",
        "outputId": "0c24d556-aa76-4420-f38b-41feeb8d254a"
      },
      "execution_count": 36,
      "outputs": [
        {
          "name": "stdout",
          "output_type": "stream",
          "text": [
            "Enter a integer between 5 to 15: 7\n"
          ]
        }
      ]
    },
    {
      "cell_type": "code",
      "source": [
        "MyList = randomlist(n)\n",
        "MyList"
      ],
      "metadata": {
        "colab": {
          "base_uri": "https://localhost:8080/"
        },
        "id": "JxQmNAELl7qc",
        "outputId": "a83ce252-bf58-4940-9f93-ce0e27f2d859"
      },
      "execution_count": 37,
      "outputs": [
        {
          "output_type": "execute_result",
          "data": {
            "text/plain": [
              "[10, 41, 24, 13, 44, 19, 26]"
            ]
          },
          "metadata": {},
          "execution_count": 37
        }
      ]
    },
    {
      "cell_type": "code",
      "source": [
        "MySum = sumcalc(MyList)\n",
        "MySum"
      ],
      "metadata": {
        "colab": {
          "base_uri": "https://localhost:8080/"
        },
        "id": "tlV_BOs4mCrf",
        "outputId": "5873427c-fd2f-4268-8423-9a133fdf1816"
      },
      "execution_count": 38,
      "outputs": [
        {
          "output_type": "execute_result",
          "data": {
            "text/plain": [
              "177"
            ]
          },
          "metadata": {},
          "execution_count": 38
        }
      ]
    },
    {
      "cell_type": "code",
      "source": [
        "print(\"The elements of the array are: \" + ' '.join(str(element) for element in MyList))"
      ],
      "metadata": {
        "colab": {
          "base_uri": "https://localhost:8080/"
        },
        "id": "6YCY3rt9mIUn",
        "outputId": "98b30647-efaa-4faf-e588-fa68d0f7115c"
      },
      "execution_count": 64,
      "outputs": [
        {
          "output_type": "stream",
          "name": "stdout",
          "text": [
            "The elements of the array are: 10 41 24 13 44 19 26\n"
          ]
        }
      ]
    },
    {
      "cell_type": "code",
      "source": [
        "outputSum = str(MySum)\n",
        "print(\"The sum is: \" + outputSum)"
      ],
      "metadata": {
        "colab": {
          "base_uri": "https://localhost:8080/"
        },
        "id": "PBOoqBou5xVc",
        "outputId": "9b1083e7-fdf6-401f-9cb4-e104312f3f3a"
      },
      "execution_count": 67,
      "outputs": [
        {
          "output_type": "stream",
          "name": "stdout",
          "text": [
            "The sum is: 177\n"
          ]
        }
      ]
    }
  ]
}